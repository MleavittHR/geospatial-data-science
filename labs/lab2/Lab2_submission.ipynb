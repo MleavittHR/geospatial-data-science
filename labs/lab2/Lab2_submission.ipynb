{
 "cells": [
  {
   "cell_type": "markdown",
   "id": "5609f279",
   "metadata": {},
   "source": [
    "# Load Modules & Set Variables ALSO my answers to questions are Comments within the cells that produce the answer"
   ]
  },
  {
   "cell_type": "code",
   "execution_count": 1,
   "id": "8d6a3223",
   "metadata": {},
   "outputs": [],
   "source": [
    "# Import modules\n",
    "import pandas as pd\n",
    "import geopandas as gpd\n",
    "import matplotlib.pyplot as plt"
   ]
  },
  {
   "cell_type": "code",
   "execution_count": 2,
   "id": "cccb6deb",
   "metadata": {},
   "outputs": [],
   "source": [
    "# Define data filepath\n",
    "pathname = '/Users/zachary/Desktop/WINTER22/Geog490/geospatial-data-science/labs/lab2/lab2/or_1992-2018.shp'\n",
    "# Read data\n",
    "df = gpd.read_file(pathname) # 'df' stands for DataFrame"
   ]
  },
  {
   "cell_type": "markdown",
   "id": "264ab4f3",
   "metadata": {},
   "source": [
    "Data Dimension Information Access"
   ]
  },
  {
   "cell_type": "code",
   "execution_count": 3,
   "id": "6f494de6",
   "metadata": {},
   "outputs": [
    {
     "data": {
      "text/plain": [
       "Index(['OBJECTID', 'FOD_ID', 'FPA_ID', 'SOURCE_SYS', 'SOURCE_S_1',\n",
       "       'NWCG_REPOR', 'NWCG_REP_1', 'NWCG_REP_2', 'SOURCE_REP', 'SOURCE_R_1',\n",
       "       'LOCAL_FIRE', 'LOCAL_INCI', 'FIRE_CODE', 'FIRE_NAME', 'ICS_209_PL',\n",
       "       'ICS_209__1', 'MTBS_ID', 'MTBS_FIRE_', 'COMPLEX_NA', 'FIRE_YEAR',\n",
       "       'DISCOVERY_', 'DISCOVER_1', 'DISCOVER_2', 'NWCG_CAUSE', 'NWCG_GENER',\n",
       "       'NWCG_CAU_1', 'CONT_DATE', 'CONT_DOY', 'CONT_TIME', 'FIRE_SIZE',\n",
       "       'FIRE_SIZE_', 'LATITUDE', 'LONGITUDE', 'OWNER_DESC', 'STATE', 'COUNTY',\n",
       "       'FIPS_CODE', 'FIPS_NAME', 'geometry'],\n",
       "      dtype='object')"
      ]
     },
     "execution_count": 3,
     "metadata": {},
     "output_type": "execute_result"
    }
   ],
   "source": [
    "# Find column labels\n",
    "df.columns"
   ]
  },
  {
   "cell_type": "code",
   "execution_count": 4,
   "id": "052d1e4d",
   "metadata": {},
   "outputs": [
    {
     "data": {
      "text/plain": [
       "OBJECTID       float64\n",
       "FOD_ID           int64\n",
       "FPA_ID          object\n",
       "SOURCE_SYS      object\n",
       "SOURCE_S_1      object\n",
       "NWCG_REPOR      object\n",
       "NWCG_REP_1      object\n",
       "NWCG_REP_2      object\n",
       "SOURCE_REP      object\n",
       "SOURCE_R_1      object\n",
       "LOCAL_FIRE      object\n",
       "LOCAL_INCI      object\n",
       "FIRE_CODE       object\n",
       "FIRE_NAME       object\n",
       "ICS_209_PL      object\n",
       "ICS_209__1      object\n",
       "MTBS_ID         object\n",
       "MTBS_FIRE_      object\n",
       "COMPLEX_NA      object\n",
       "FIRE_YEAR        int64\n",
       "DISCOVERY_      object\n",
       "DISCOVER_1       int64\n",
       "DISCOVER_2      object\n",
       "NWCG_CAUSE      object\n",
       "NWCG_GENER      object\n",
       "NWCG_CAU_1      object\n",
       "CONT_DATE       object\n",
       "CONT_DOY       float64\n",
       "CONT_TIME       object\n",
       "FIRE_SIZE      float64\n",
       "FIRE_SIZE_      object\n",
       "LATITUDE       float64\n",
       "LONGITUDE      float64\n",
       "OWNER_DESC      object\n",
       "STATE           object\n",
       "COUNTY          object\n",
       "FIPS_CODE       object\n",
       "FIPS_NAME       object\n",
       "geometry      geometry\n",
       "dtype: object"
      ]
     },
     "execution_count": 4,
     "metadata": {},
     "output_type": "execute_result"
    }
   ],
   "source": [
    "df.dtypes"
   ]
  },
  {
   "cell_type": "markdown",
   "id": "6cc7fbb4",
   "metadata": {},
   "source": [
    "Which county had the most human caused wildfires >50 acres?"
   ]
  },
  {
   "cell_type": "code",
   "execution_count": 5,
   "id": "a32c6e09",
   "metadata": {},
   "outputs": [
    {
     "data": {
      "text/plain": [
       "count              627\n",
       "unique              38\n",
       "top       Wasco County\n",
       "freq                71\n",
       "Name: FIPS_NAME, dtype: object"
      ]
     },
     "execution_count": 5,
     "metadata": {},
     "output_type": "execute_result"
    }
   ],
   "source": [
    "df_50acres = df[df['FIRE_SIZE'] > 50]\n",
    "df_50acres_human = df_50acres[df_50acres['NWCG_CAUSE'] == 'Human']\n",
    "\n",
    "df_50acres_human['FIPS_NAME'].describe()\n",
    "\n",
    "#As we can see, the top county is Wasco County with a frequency of 71"
   ]
  },
  {
   "cell_type": "markdown",
   "id": "7369d008",
   "metadata": {},
   "source": [
    "Which month had the most natural caused wildfires >100 acres?"
   ]
  },
  {
   "cell_type": "code",
   "execution_count": 6,
   "id": "a4fa1c14",
   "metadata": {},
   "outputs": [
    {
     "name": "stderr",
     "output_type": "stream",
     "text": [
      "/Users/zachary/opt/anaconda3/envs/lab2/lib/python3.8/site-packages/geopandas/geodataframe.py:1351: SettingWithCopyWarning: \n",
      "A value is trying to be set on a copy of a slice from a DataFrame.\n",
      "Try using .loc[row_indexer,col_indexer] = value instead\n",
      "\n",
      "See the caveats in the documentation: https://pandas.pydata.org/pandas-docs/stable/user_guide/indexing.html#returning-a-view-versus-a-copy\n",
      "  super().__setitem__(key, value)\n"
     ]
    },
    {
     "data": {
      "text/html": [
       "<div>\n",
       "<style scoped>\n",
       "    .dataframe tbody tr th:only-of-type {\n",
       "        vertical-align: middle;\n",
       "    }\n",
       "\n",
       "    .dataframe tbody tr th {\n",
       "        vertical-align: top;\n",
       "    }\n",
       "\n",
       "    .dataframe thead th {\n",
       "        text-align: right;\n",
       "    }\n",
       "</style>\n",
       "<table border=\"1\" class=\"dataframe\">\n",
       "  <thead>\n",
       "    <tr style=\"text-align: right;\">\n",
       "      <th></th>\n",
       "      <th>count</th>\n",
       "      <th>mean</th>\n",
       "      <th>std</th>\n",
       "      <th>min</th>\n",
       "      <th>25%</th>\n",
       "      <th>50%</th>\n",
       "      <th>75%</th>\n",
       "      <th>max</th>\n",
       "    </tr>\n",
       "    <tr>\n",
       "      <th>datetime</th>\n",
       "      <th></th>\n",
       "      <th></th>\n",
       "      <th></th>\n",
       "      <th></th>\n",
       "      <th></th>\n",
       "      <th></th>\n",
       "      <th></th>\n",
       "      <th></th>\n",
       "    </tr>\n",
       "  </thead>\n",
       "  <tbody>\n",
       "    <tr>\n",
       "      <th>4</th>\n",
       "      <td>2.0</td>\n",
       "      <td>1.818924e+06</td>\n",
       "      <td>340120.483071</td>\n",
       "      <td>1578423.0</td>\n",
       "      <td>1698673.75</td>\n",
       "      <td>1818924.5</td>\n",
       "      <td>1939175.25</td>\n",
       "      <td>2059426.0</td>\n",
       "    </tr>\n",
       "    <tr>\n",
       "      <th>5</th>\n",
       "      <td>6.0</td>\n",
       "      <td>5.455263e+05</td>\n",
       "      <td>751680.036714</td>\n",
       "      <td>35844.0</td>\n",
       "      <td>199729.75</td>\n",
       "      <td>342059.0</td>\n",
       "      <td>342843.75</td>\n",
       "      <td>2057804.0</td>\n",
       "    </tr>\n",
       "    <tr>\n",
       "      <th>6</th>\n",
       "      <td>98.0</td>\n",
       "      <td>1.116859e+06</td>\n",
       "      <td>780556.385350</td>\n",
       "      <td>49721.0</td>\n",
       "      <td>340198.25</td>\n",
       "      <td>1578424.5</td>\n",
       "      <td>1804604.00</td>\n",
       "      <td>2060435.0</td>\n",
       "    </tr>\n",
       "    <tr>\n",
       "      <th>7</th>\n",
       "      <td>410.0</td>\n",
       "      <td>8.178679e+05</td>\n",
       "      <td>732139.566738</td>\n",
       "      <td>5928.0</td>\n",
       "      <td>232036.75</td>\n",
       "      <td>343075.5</td>\n",
       "      <td>1647839.50</td>\n",
       "      <td>2118754.0</td>\n",
       "    </tr>\n",
       "    <tr>\n",
       "      <th>8</th>\n",
       "      <td>549.0</td>\n",
       "      <td>7.832307e+05</td>\n",
       "      <td>712959.559880</td>\n",
       "      <td>4139.0</td>\n",
       "      <td>231968.00</td>\n",
       "      <td>342951.0</td>\n",
       "      <td>1567836.00</td>\n",
       "      <td>2061310.0</td>\n",
       "    </tr>\n",
       "    <tr>\n",
       "      <th>9</th>\n",
       "      <td>93.0</td>\n",
       "      <td>7.743897e+05</td>\n",
       "      <td>698169.996122</td>\n",
       "      <td>15153.0</td>\n",
       "      <td>231750.00</td>\n",
       "      <td>343289.0</td>\n",
       "      <td>1467774.00</td>\n",
       "      <td>1905213.0</td>\n",
       "    </tr>\n",
       "    <tr>\n",
       "      <th>10</th>\n",
       "      <td>6.0</td>\n",
       "      <td>1.365753e+06</td>\n",
       "      <td>389404.959327</td>\n",
       "      <td>720369.0</td>\n",
       "      <td>1251945.50</td>\n",
       "      <td>1467603.5</td>\n",
       "      <td>1467695.75</td>\n",
       "      <td>1891158.0</td>\n",
       "    </tr>\n",
       "  </tbody>\n",
       "</table>\n",
       "</div>"
      ],
      "text/plain": [
       "          count          mean            std        min         25%  \\\n",
       "datetime                                                              \n",
       "4           2.0  1.818924e+06  340120.483071  1578423.0  1698673.75   \n",
       "5           6.0  5.455263e+05  751680.036714    35844.0   199729.75   \n",
       "6          98.0  1.116859e+06  780556.385350    49721.0   340198.25   \n",
       "7         410.0  8.178679e+05  732139.566738     5928.0   232036.75   \n",
       "8         549.0  7.832307e+05  712959.559880     4139.0   231968.00   \n",
       "9          93.0  7.743897e+05  698169.996122    15153.0   231750.00   \n",
       "10          6.0  1.365753e+06  389404.959327   720369.0  1251945.50   \n",
       "\n",
       "                50%         75%        max  \n",
       "datetime                                    \n",
       "4         1818924.5  1939175.25  2059426.0  \n",
       "5          342059.0   342843.75  2057804.0  \n",
       "6         1578424.5  1804604.00  2060435.0  \n",
       "7          343075.5  1647839.50  2118754.0  \n",
       "8          342951.0  1567836.00  2061310.0  \n",
       "9          343289.0  1467774.00  1905213.0  \n",
       "10        1467603.5  1467695.75  1891158.0  "
      ]
     },
     "execution_count": 6,
     "metadata": {},
     "output_type": "execute_result"
    }
   ],
   "source": [
    "#Get all fires over 100 acres\n",
    "df_100acres = df[df['FIRE_SIZE'] > 100]\n",
    "\n",
    "#Select only for naturally caused fires\n",
    "df_100acres_natural = df_100acres[df_100acres['NWCG_CAUSE'] == 'Natural']\n",
    "\n",
    "#Make the data date time compatible\n",
    "datetime = pd.to_datetime(df_100acres_natural['DISCOVERY_'], format='%Y/%m/%d %H:%M:%S.%f')\n",
    "df_100acres_natural['datetime'] = datetime\n",
    "\n",
    "#Describe by Month\n",
    "df_100acres_natural.iloc[:,0].groupby(df_100acres_natural['datetime'].dt.month).describe()\n",
    "\n",
    "#As we can see month 8, August has the highest count of naturally caused fires with over 100acres of burn area"
   ]
  },
  {
   "cell_type": "markdown",
   "id": "38802641",
   "metadata": {},
   "source": [
    "How many fires >200 acres have an undetermined cause (e.g. Missing data/not specified/undetermined?"
   ]
  },
  {
   "cell_type": "code",
   "execution_count": 7,
   "id": "77d1aca5",
   "metadata": {},
   "outputs": [
    {
     "data": {
      "text/plain": [
       "OBJECTID      13\n",
       "FOD_ID        13\n",
       "FPA_ID        13\n",
       "SOURCE_SYS    13\n",
       "SOURCE_S_1    13\n",
       "NWCG_REPOR    13\n",
       "NWCG_REP_1    13\n",
       "NWCG_REP_2    13\n",
       "SOURCE_REP    13\n",
       "SOURCE_R_1    13\n",
       "LOCAL_FIRE     0\n",
       "LOCAL_INCI     5\n",
       "FIRE_CODE      8\n",
       "FIRE_NAME     13\n",
       "ICS_209_PL    10\n",
       "ICS_209__1     0\n",
       "MTBS_ID        3\n",
       "MTBS_FIRE_     3\n",
       "COMPLEX_NA     0\n",
       "FIRE_YEAR     13\n",
       "DISCOVERY_    13\n",
       "DISCOVER_1    13\n",
       "DISCOVER_2    11\n",
       "NWCG_CAUSE    13\n",
       "NWCG_GENER    13\n",
       "NWCG_CAU_1     0\n",
       "CONT_DATE      7\n",
       "CONT_DOY       7\n",
       "CONT_TIME      6\n",
       "FIRE_SIZE     13\n",
       "FIRE_SIZE_    13\n",
       "LATITUDE      13\n",
       "LONGITUDE     13\n",
       "OWNER_DESC    13\n",
       "STATE         13\n",
       "COUNTY         9\n",
       "FIPS_CODE      9\n",
       "FIPS_NAME      9\n",
       "geometry      13\n",
       "dtype: int64"
      ]
     },
     "execution_count": 7,
     "metadata": {},
     "output_type": "execute_result"
    }
   ],
   "source": [
    "#Get all fires over 200 acres\n",
    "df_200acres = df[df['FIRE_SIZE'] > 200]\n",
    "\n",
    "#select unknown causes\n",
    "df_200acres_unknown = df_200acres[df_200acres['NWCG_CAUSE']=='Missing data/not specified/undetermined']\n",
    "\n",
    "#call count\n",
    "df_200acres_unknown.count()\n",
    "\n",
    "#Since most fields say 13, well say there are 13 fires that qualify"
   ]
  },
  {
   "cell_type": "markdown",
   "id": "9dd33562",
   "metadata": {},
   "source": [
    "What is the name, date, and county of the largest sized fire?"
   ]
  },
  {
   "cell_type": "code",
   "execution_count": 8,
   "id": "3d9a36f8",
   "metadata": {},
   "outputs": [
    {
     "name": "stderr",
     "output_type": "stream",
     "text": [
      "/var/folders/8v/6dq3dnld7rx4qv5wr7vx0w5m0000gn/T/ipykernel_26138/24225192.py:1: FutureWarning: In a future version of pandas all arguments of DataFrame.sort_values except for the argument 'by' will be keyword-only\n",
      "  df.sort_values('FIRE_SIZE',0, 0)\n"
     ]
    },
    {
     "data": {
      "text/html": [
       "<div>\n",
       "<style scoped>\n",
       "    .dataframe tbody tr th:only-of-type {\n",
       "        vertical-align: middle;\n",
       "    }\n",
       "\n",
       "    .dataframe tbody tr th {\n",
       "        vertical-align: top;\n",
       "    }\n",
       "\n",
       "    .dataframe thead th {\n",
       "        text-align: right;\n",
       "    }\n",
       "</style>\n",
       "<table border=\"1\" class=\"dataframe\">\n",
       "  <thead>\n",
       "    <tr style=\"text-align: right;\">\n",
       "      <th></th>\n",
       "      <th>OBJECTID</th>\n",
       "      <th>FOD_ID</th>\n",
       "      <th>FPA_ID</th>\n",
       "      <th>SOURCE_SYS</th>\n",
       "      <th>SOURCE_S_1</th>\n",
       "      <th>NWCG_REPOR</th>\n",
       "      <th>NWCG_REP_1</th>\n",
       "      <th>NWCG_REP_2</th>\n",
       "      <th>SOURCE_REP</th>\n",
       "      <th>SOURCE_R_1</th>\n",
       "      <th>...</th>\n",
       "      <th>FIRE_SIZE</th>\n",
       "      <th>FIRE_SIZE_</th>\n",
       "      <th>LATITUDE</th>\n",
       "      <th>LONGITUDE</th>\n",
       "      <th>OWNER_DESC</th>\n",
       "      <th>STATE</th>\n",
       "      <th>COUNTY</th>\n",
       "      <th>FIPS_CODE</th>\n",
       "      <th>FIPS_NAME</th>\n",
       "      <th>geometry</th>\n",
       "    </tr>\n",
       "  </thead>\n",
       "  <tbody>\n",
       "    <tr>\n",
       "      <th>66964</th>\n",
       "      <td>1578392.0</td>\n",
       "      <td>201508655</td>\n",
       "      <td>W-649635</td>\n",
       "      <td>FED</td>\n",
       "      <td>DOI-WFMI</td>\n",
       "      <td>BLM</td>\n",
       "      <td>USORVAD</td>\n",
       "      <td>Vale District</td>\n",
       "      <td>ORVAD</td>\n",
       "      <td>Vale District</td>\n",
       "      <td>...</td>\n",
       "      <td>558198.30</td>\n",
       "      <td>G</td>\n",
       "      <td>42.391894</td>\n",
       "      <td>-117.893687</td>\n",
       "      <td>BLM</td>\n",
       "      <td>OR</td>\n",
       "      <td>Malheur</td>\n",
       "      <td>41045</td>\n",
       "      <td>Malheur County</td>\n",
       "      <td>POINT (-117.89369 42.39189)</td>\n",
       "    </tr>\n",
       "    <tr>\n",
       "      <th>65681</th>\n",
       "      <td>153681.0</td>\n",
       "      <td>155225</td>\n",
       "      <td>FS-382506</td>\n",
       "      <td>FED</td>\n",
       "      <td>FS-FIRESTAT</td>\n",
       "      <td>FS</td>\n",
       "      <td>USORRSF</td>\n",
       "      <td>Rogue River-Siskiyou National Forest</td>\n",
       "      <td>0611</td>\n",
       "      <td>Siskiyou National Forest</td>\n",
       "      <td>...</td>\n",
       "      <td>499945.00</td>\n",
       "      <td>G</td>\n",
       "      <td>42.038889</td>\n",
       "      <td>-123.911667</td>\n",
       "      <td>USFS</td>\n",
       "      <td>OR</td>\n",
       "      <td>None</td>\n",
       "      <td>None</td>\n",
       "      <td>None</td>\n",
       "      <td>POINT (-123.91167 42.03889)</td>\n",
       "    </tr>\n",
       "    <tr>\n",
       "      <th>47561</th>\n",
       "      <td>1733723.0</td>\n",
       "      <td>300024929</td>\n",
       "      <td>W-676717</td>\n",
       "      <td>FED</td>\n",
       "      <td>DOI-WFMI</td>\n",
       "      <td>BLM</td>\n",
       "      <td>USORVAD</td>\n",
       "      <td>Vale District</td>\n",
       "      <td>ORVAD</td>\n",
       "      <td>Vale District</td>\n",
       "      <td>...</td>\n",
       "      <td>280141.00</td>\n",
       "      <td>G</td>\n",
       "      <td>43.328300</td>\n",
       "      <td>-118.224400</td>\n",
       "      <td>BLM</td>\n",
       "      <td>OR</td>\n",
       "      <td>Malheur</td>\n",
       "      <td>41045</td>\n",
       "      <td>Malheur County</td>\n",
       "      <td>POINT (-118.22440 43.32830)</td>\n",
       "    </tr>\n",
       "    <tr>\n",
       "      <th>60566</th>\n",
       "      <td>1887267.0</td>\n",
       "      <td>400008336</td>\n",
       "      <td>FS-6842387</td>\n",
       "      <td>FED</td>\n",
       "      <td>FS-FIRESTAT</td>\n",
       "      <td>FS</td>\n",
       "      <td>USORRSF</td>\n",
       "      <td>Rogue River-Siskiyou National Forest</td>\n",
       "      <td>0610</td>\n",
       "      <td>Rogue River-Siskiyou National Forest</td>\n",
       "      <td>...</td>\n",
       "      <td>191125.00</td>\n",
       "      <td>G</td>\n",
       "      <td>42.296667</td>\n",
       "      <td>-123.953611</td>\n",
       "      <td>USFS</td>\n",
       "      <td>OR</td>\n",
       "      <td>015</td>\n",
       "      <td>41015</td>\n",
       "      <td>Curry County</td>\n",
       "      <td>POINT (-123.95361 42.29667)</td>\n",
       "    </tr>\n",
       "    <tr>\n",
       "      <th>66542</th>\n",
       "      <td>1577909.0</td>\n",
       "      <td>201508153</td>\n",
       "      <td>W-648062</td>\n",
       "      <td>FED</td>\n",
       "      <td>DOI-WFMI</td>\n",
       "      <td>BLM</td>\n",
       "      <td>USORBUD</td>\n",
       "      <td>Burns District</td>\n",
       "      <td>ORBUD</td>\n",
       "      <td>Burns District</td>\n",
       "      <td>...</td>\n",
       "      <td>160801.00</td>\n",
       "      <td>G</td>\n",
       "      <td>42.818600</td>\n",
       "      <td>-119.175000</td>\n",
       "      <td>BLM</td>\n",
       "      <td>OR</td>\n",
       "      <td>Harney</td>\n",
       "      <td>41025</td>\n",
       "      <td>Harney County</td>\n",
       "      <td>POINT (-119.17500 42.81860)</td>\n",
       "    </tr>\n",
       "    <tr>\n",
       "      <th>...</th>\n",
       "      <td>...</td>\n",
       "      <td>...</td>\n",
       "      <td>...</td>\n",
       "      <td>...</td>\n",
       "      <td>...</td>\n",
       "      <td>...</td>\n",
       "      <td>...</td>\n",
       "      <td>...</td>\n",
       "      <td>...</td>\n",
       "      <td>...</td>\n",
       "      <td>...</td>\n",
       "      <td>...</td>\n",
       "      <td>...</td>\n",
       "      <td>...</td>\n",
       "      <td>...</td>\n",
       "      <td>...</td>\n",
       "      <td>...</td>\n",
       "      <td>...</td>\n",
       "      <td>...</td>\n",
       "      <td>...</td>\n",
       "      <td>...</td>\n",
       "    </tr>\n",
       "    <tr>\n",
       "      <th>19238</th>\n",
       "      <td>759240.0</td>\n",
       "      <td>861169</td>\n",
       "      <td>ODF-11419</td>\n",
       "      <td>NONFED</td>\n",
       "      <td>ST-ORORS</td>\n",
       "      <td>ST/C&amp;L</td>\n",
       "      <td>USOR952S</td>\n",
       "      <td>John Day Unit</td>\n",
       "      <td>ORODF-952</td>\n",
       "      <td>John Day Unit</td>\n",
       "      <td>...</td>\n",
       "      <td>0.01</td>\n",
       "      <td>A</td>\n",
       "      <td>44.657890</td>\n",
       "      <td>-119.492890</td>\n",
       "      <td>PRIVATE</td>\n",
       "      <td>OR</td>\n",
       "      <td>12</td>\n",
       "      <td>41023</td>\n",
       "      <td>Grant County</td>\n",
       "      <td>POINT (-119.49289 44.65789)</td>\n",
       "    </tr>\n",
       "    <tr>\n",
       "      <th>17897</th>\n",
       "      <td>772073.0</td>\n",
       "      <td>874740</td>\n",
       "      <td>ODF-76975</td>\n",
       "      <td>NONFED</td>\n",
       "      <td>ST-ORORS</td>\n",
       "      <td>ST/C&amp;L</td>\n",
       "      <td>USOR771S</td>\n",
       "      <td>East Lane Unit - ODF</td>\n",
       "      <td>ORODF-771</td>\n",
       "      <td>East Lane Unit</td>\n",
       "      <td>...</td>\n",
       "      <td>0.01</td>\n",
       "      <td>A</td>\n",
       "      <td>44.071500</td>\n",
       "      <td>-122.958330</td>\n",
       "      <td>PRIVATE</td>\n",
       "      <td>OR</td>\n",
       "      <td>20</td>\n",
       "      <td>41039</td>\n",
       "      <td>Lane County</td>\n",
       "      <td>POINT (-122.95833 44.07150)</td>\n",
       "    </tr>\n",
       "    <tr>\n",
       "      <th>6319</th>\n",
       "      <td>769744.0</td>\n",
       "      <td>872104</td>\n",
       "      <td>ODF-67571</td>\n",
       "      <td>NONFED</td>\n",
       "      <td>ST-ORORS</td>\n",
       "      <td>ST/C&amp;L</td>\n",
       "      <td>USOR973S</td>\n",
       "      <td>Pendleton Unit</td>\n",
       "      <td>ORODF-973</td>\n",
       "      <td>Pendleton Unit</td>\n",
       "      <td>...</td>\n",
       "      <td>0.01</td>\n",
       "      <td>A</td>\n",
       "      <td>45.125310</td>\n",
       "      <td>-118.939360</td>\n",
       "      <td>PRIVATE</td>\n",
       "      <td>OR</td>\n",
       "      <td>30</td>\n",
       "      <td>41059</td>\n",
       "      <td>Umatilla County</td>\n",
       "      <td>POINT (-118.93936 45.12531)</td>\n",
       "    </tr>\n",
       "    <tr>\n",
       "      <th>17895</th>\n",
       "      <td>772071.0</td>\n",
       "      <td>874738</td>\n",
       "      <td>ODF-76779</td>\n",
       "      <td>NONFED</td>\n",
       "      <td>ST-ORORS</td>\n",
       "      <td>ST/C&amp;L</td>\n",
       "      <td>USOR771S</td>\n",
       "      <td>East Lane Unit - ODF</td>\n",
       "      <td>ORODF-771</td>\n",
       "      <td>East Lane Unit</td>\n",
       "      <td>...</td>\n",
       "      <td>0.01</td>\n",
       "      <td>A</td>\n",
       "      <td>44.070670</td>\n",
       "      <td>-122.942000</td>\n",
       "      <td>PRIVATE</td>\n",
       "      <td>OR</td>\n",
       "      <td>20</td>\n",
       "      <td>41039</td>\n",
       "      <td>Lane County</td>\n",
       "      <td>POINT (-122.94200 44.07067)</td>\n",
       "    </tr>\n",
       "    <tr>\n",
       "      <th>33256</th>\n",
       "      <td>716129.0</td>\n",
       "      <td>812340</td>\n",
       "      <td>ODF-63635</td>\n",
       "      <td>NONFED</td>\n",
       "      <td>ST-ORORS</td>\n",
       "      <td>ST/C&amp;L</td>\n",
       "      <td>USOR781S</td>\n",
       "      <td>Western Lane District</td>\n",
       "      <td>ORODF-781</td>\n",
       "      <td>Western Lane District</td>\n",
       "      <td>...</td>\n",
       "      <td>0.01</td>\n",
       "      <td>A</td>\n",
       "      <td>44.024430</td>\n",
       "      <td>-123.475100</td>\n",
       "      <td>PRIVATE</td>\n",
       "      <td>OR</td>\n",
       "      <td>20</td>\n",
       "      <td>41039</td>\n",
       "      <td>Lane County</td>\n",
       "      <td>POINT (-123.47510 44.02443)</td>\n",
       "    </tr>\n",
       "  </tbody>\n",
       "</table>\n",
       "<p>67042 rows × 39 columns</p>\n",
       "</div>"
      ],
      "text/plain": [
       "        OBJECTID     FOD_ID      FPA_ID SOURCE_SYS   SOURCE_S_1 NWCG_REPOR  \\\n",
       "66964  1578392.0  201508655    W-649635        FED     DOI-WFMI        BLM   \n",
       "65681   153681.0     155225   FS-382506        FED  FS-FIRESTAT         FS   \n",
       "47561  1733723.0  300024929    W-676717        FED     DOI-WFMI        BLM   \n",
       "60566  1887267.0  400008336  FS-6842387        FED  FS-FIRESTAT         FS   \n",
       "66542  1577909.0  201508153    W-648062        FED     DOI-WFMI        BLM   \n",
       "...          ...        ...         ...        ...          ...        ...   \n",
       "19238   759240.0     861169   ODF-11419     NONFED     ST-ORORS     ST/C&L   \n",
       "17897   772073.0     874740   ODF-76975     NONFED     ST-ORORS     ST/C&L   \n",
       "6319    769744.0     872104   ODF-67571     NONFED     ST-ORORS     ST/C&L   \n",
       "17895   772071.0     874738   ODF-76779     NONFED     ST-ORORS     ST/C&L   \n",
       "33256   716129.0     812340   ODF-63635     NONFED     ST-ORORS     ST/C&L   \n",
       "\n",
       "      NWCG_REP_1                            NWCG_REP_2 SOURCE_REP  \\\n",
       "66964    USORVAD                         Vale District      ORVAD   \n",
       "65681    USORRSF  Rogue River-Siskiyou National Forest       0611   \n",
       "47561    USORVAD                         Vale District      ORVAD   \n",
       "60566    USORRSF  Rogue River-Siskiyou National Forest       0610   \n",
       "66542    USORBUD                        Burns District      ORBUD   \n",
       "...          ...                                   ...        ...   \n",
       "19238   USOR952S                         John Day Unit  ORODF-952   \n",
       "17897   USOR771S                  East Lane Unit - ODF  ORODF-771   \n",
       "6319    USOR973S                        Pendleton Unit  ORODF-973   \n",
       "17895   USOR771S                  East Lane Unit - ODF  ORODF-771   \n",
       "33256   USOR781S                 Western Lane District  ORODF-781   \n",
       "\n",
       "                                 SOURCE_R_1  ...  FIRE_SIZE FIRE_SIZE_  \\\n",
       "66964                         Vale District  ...  558198.30          G   \n",
       "65681              Siskiyou National Forest  ...  499945.00          G   \n",
       "47561                         Vale District  ...  280141.00          G   \n",
       "60566  Rogue River-Siskiyou National Forest  ...  191125.00          G   \n",
       "66542                        Burns District  ...  160801.00          G   \n",
       "...                                     ...  ...        ...        ...   \n",
       "19238                         John Day Unit  ...       0.01          A   \n",
       "17897                        East Lane Unit  ...       0.01          A   \n",
       "6319                         Pendleton Unit  ...       0.01          A   \n",
       "17895                        East Lane Unit  ...       0.01          A   \n",
       "33256                 Western Lane District  ...       0.01          A   \n",
       "\n",
       "        LATITUDE   LONGITUDE OWNER_DESC STATE   COUNTY FIPS_CODE  \\\n",
       "66964  42.391894 -117.893687        BLM    OR  Malheur     41045   \n",
       "65681  42.038889 -123.911667       USFS    OR     None      None   \n",
       "47561  43.328300 -118.224400        BLM    OR  Malheur     41045   \n",
       "60566  42.296667 -123.953611       USFS    OR      015     41015   \n",
       "66542  42.818600 -119.175000        BLM    OR   Harney     41025   \n",
       "...          ...         ...        ...   ...      ...       ...   \n",
       "19238  44.657890 -119.492890    PRIVATE    OR       12     41023   \n",
       "17897  44.071500 -122.958330    PRIVATE    OR       20     41039   \n",
       "6319   45.125310 -118.939360    PRIVATE    OR       30     41059   \n",
       "17895  44.070670 -122.942000    PRIVATE    OR       20     41039   \n",
       "33256  44.024430 -123.475100    PRIVATE    OR       20     41039   \n",
       "\n",
       "             FIPS_NAME                     geometry  \n",
       "66964   Malheur County  POINT (-117.89369 42.39189)  \n",
       "65681             None  POINT (-123.91167 42.03889)  \n",
       "47561   Malheur County  POINT (-118.22440 43.32830)  \n",
       "60566     Curry County  POINT (-123.95361 42.29667)  \n",
       "66542    Harney County  POINT (-119.17500 42.81860)  \n",
       "...                ...                          ...  \n",
       "19238     Grant County  POINT (-119.49289 44.65789)  \n",
       "17897      Lane County  POINT (-122.95833 44.07150)  \n",
       "6319   Umatilla County  POINT (-118.93936 45.12531)  \n",
       "17895      Lane County  POINT (-122.94200 44.07067)  \n",
       "33256      Lane County  POINT (-123.47510 44.02443)  \n",
       "\n",
       "[67042 rows x 39 columns]"
      ]
     },
     "execution_count": 8,
     "metadata": {},
     "output_type": "execute_result"
    }
   ],
   "source": [
    "df.sort_values('FIRE_SIZE',0, 0)\n"
   ]
  },
  {
   "cell_type": "code",
   "execution_count": 9,
   "id": "3a76d7b6",
   "metadata": {},
   "outputs": [
    {
     "data": {
      "text/plain": [
       "'Malheur County'"
      ]
     },
     "execution_count": 9,
     "metadata": {},
     "output_type": "execute_result"
    }
   ],
   "source": [
    "LargestFire = df.iloc[66964]\n",
    "\n",
    "LargestFire['FIPS_NAME']"
   ]
  },
  {
   "cell_type": "code",
   "execution_count": 10,
   "id": "f64e28f7",
   "metadata": {},
   "outputs": [
    {
     "data": {
      "text/plain": [
       "'LONG DRAW'"
      ]
     },
     "execution_count": 10,
     "metadata": {},
     "output_type": "execute_result"
    }
   ],
   "source": [
    "LargestFire['FIRE_NAME']"
   ]
  },
  {
   "cell_type": "code",
   "execution_count": 11,
   "id": "d7b97acc",
   "metadata": {},
   "outputs": [
    {
     "data": {
      "text/plain": [
       "'2012/07/08 00:00:00.000'"
      ]
     },
     "execution_count": 11,
     "metadata": {},
     "output_type": "execute_result"
    }
   ],
   "source": [
    "LargestFire['DISCOVERY_']\n",
    "\n",
    "#As we can see the largest fire was calle the Long Draw which was discovered on July 8th 2012 in Malheur County"
   ]
  },
  {
   "cell_type": "markdown",
   "id": "6c9a2f36",
   "metadata": {},
   "source": [
    "How many wildfires in Lane County were >50 acres?"
   ]
  },
  {
   "cell_type": "code",
   "execution_count": 13,
   "id": "402ebc77",
   "metadata": {},
   "outputs": [
    {
     "data": {
      "text/plain": [
       "OBJECTID      33\n",
       "FOD_ID        33\n",
       "FPA_ID        33\n",
       "SOURCE_SYS    33\n",
       "SOURCE_S_1    33\n",
       "NWCG_REPOR    33\n",
       "NWCG_REP_1    33\n",
       "NWCG_REP_2    33\n",
       "SOURCE_REP    33\n",
       "SOURCE_R_1    33\n",
       "LOCAL_FIRE    27\n",
       "LOCAL_INCI    25\n",
       "FIRE_CODE     27\n",
       "FIRE_NAME     33\n",
       "ICS_209_PL    24\n",
       "ICS_209__1     8\n",
       "MTBS_ID       12\n",
       "MTBS_FIRE_    12\n",
       "COMPLEX_NA    12\n",
       "FIRE_YEAR     33\n",
       "DISCOVERY_    33\n",
       "DISCOVER_1    33\n",
       "DISCOVER_2    28\n",
       "NWCG_CAUSE    33\n",
       "NWCG_GENER    33\n",
       "NWCG_CAU_1     0\n",
       "CONT_DATE     24\n",
       "CONT_DOY      24\n",
       "CONT_TIME     19\n",
       "FIRE_SIZE     33\n",
       "FIRE_SIZE_    33\n",
       "LATITUDE      33\n",
       "LONGITUDE     33\n",
       "OWNER_DESC    33\n",
       "STATE         33\n",
       "COUNTY        33\n",
       "FIPS_CODE     33\n",
       "FIPS_NAME     33\n",
       "geometry      33\n",
       "dtype: int64"
      ]
     },
     "execution_count": 13,
     "metadata": {},
     "output_type": "execute_result"
    }
   ],
   "source": [
    "#use already existing 50 acres subselection & Select for fires in Lane county\n",
    "df_50acres_lane = df_50acres[df_50acres['FIPS_NAME'] == 'Lane County']\n",
    "\n",
    "#Call count\n",
    "df_50acres_lane.count()\n",
    "\n",
    "#since most the fields say 33, well say there are 33 fires that qualify as such"
   ]
  },
  {
   "cell_type": "markdown",
   "id": "a7424648",
   "metadata": {},
   "source": [
    "\n",
    "# CENSUS DATA"
   ]
  },
  {
   "cell_type": "markdown",
   "id": "a650b7cd",
   "metadata": {},
   "source": [
    "Define Variables & Import modules"
   ]
  },
  {
   "cell_type": "code",
   "execution_count": 14,
   "id": "738046a7",
   "metadata": {},
   "outputs": [],
   "source": [
    "# Import modules\n",
    "from cenpy import products\n",
    "import matplotlib.pyplot as plt\n",
    "\n",
    "# Define product\n",
    "acs = products.ACS(2019)"
   ]
  },
  {
   "cell_type": "code",
   "execution_count": 15,
   "id": "6ecbd26b",
   "metadata": {},
   "outputs": [
    {
     "name": "stderr",
     "output_type": "stream",
     "text": [
      "/Users/zachary/opt/anaconda3/envs/lab2/lib/python3.8/site-packages/pyproj/crs/crs.py:131: FutureWarning: '+init=<authority>:<code>' syntax is deprecated. '<authority>:<code>' is the preferred initialization method. When making the change, be mindful of axis order changes: https://pyproj4.github.io/pyproj/stable/gotchas.html#axis-order-changes-in-proj-6\n",
      "  in_crs_string = _prepare_from_proj_string(in_crs_string)\n",
      "/Users/zachary/opt/anaconda3/envs/lab2/lib/python3.8/site-packages/pyproj/crs/crs.py:131: FutureWarning: '+init=<authority>:<code>' syntax is deprecated. '<authority>:<code>' is the preferred initialization method. When making the change, be mindful of axis order changes: https://pyproj4.github.io/pyproj/stable/gotchas.html#axis-order-changes-in-proj-6\n",
      "  in_crs_string = _prepare_from_proj_string(in_crs_string)\n",
      "/Users/zachary/opt/anaconda3/envs/lab2/lib/python3.8/site-packages/cenpy/products.py:762: FutureWarning: The `op` parameter is deprecated and will be removed in a future release. Please use the `predicate` parameter instead.\n",
      "  return self._from_name(county, variables, level, \"Counties\", **kwargs)\n"
     ]
    }
   ],
   "source": [
    "#Download data \n",
    "Multnomah_TravelTime = products.ACS(2019).from_county('Multnomah County, OR', level='tract',\n",
    "                                        variables=['B08303_001E'])"
   ]
  },
  {
   "cell_type": "code",
   "execution_count": 16,
   "id": "56942a8b",
   "metadata": {},
   "outputs": [
    {
     "data": {
      "text/plain": [
       "<AxesSubplot:>"
      ]
     },
     "execution_count": 16,
     "metadata": {},
     "output_type": "execute_result"
    },
    {
     "data": {
      "image/png": "[encoded data removed]",
      "text/plain": [
       "<Figure size 720x720 with 1 Axes>"
      ]
     },
     "metadata": {
      "needs_background": "light"
     },
     "output_type": "display_data"
    }
   ],
   "source": [
    "# Plot map\n",
    "f, ax = plt.subplots(1, 1, figsize=(10,10))\n",
    "Multnomah_TravelTime.plot('B08303_001E', ax=ax, cmap='Blues')\n",
    "\n",
    "#This is Multnomah County, econompassing the City of Portland Proper. I chose to symbolize travel time."
   ]
  },
  {
   "cell_type": "code",
   "execution_count": null,
   "id": "9e66a727",
   "metadata": {},
   "outputs": [],
   "source": []
  }
 ],
 "metadata": {
  "kernelspec": {
   "display_name": "Python 3 (ipykernel)",
   "language": "python",
   "name": "python3"
  },
  "language_info": {
   "codemirror_mode": {
    "name": "ipython",
    "version": 3
   },
   "file_extension": ".py",
   "mimetype": "text/x-python",
   "name": "python",
   "nbconvert_exporter": "python",
   "pygments_lexer": "ipython3",
   "version": "3.8.12"
  }
 },
 "nbformat": 4,
 "nbformat_minor": 5
}
