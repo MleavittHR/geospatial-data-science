{
 "cells": [
  {
   "cell_type": "markdown",
   "id": "0d37c56a",
   "metadata": {},
   "source": [
    "# Question 1"
   ]
  },
  {
   "cell_type": "code",
   "execution_count": 1,
   "id": "476980b6",
   "metadata": {},
   "outputs": [],
   "source": [
    "# Import libraries\n",
    "import pandas as pd\n",
    "import numpy as np\n",
    "import geopandas as gpd\n",
    "import matplotlib.pyplot as plt\n",
    "from sklearn.preprocessing import StandardScaler\n",
    "from sklearn.model_selection import train_test_split\n",
    "from sklearn.ensemble import RandomForestRegressor\n",
    "from sklearn.metrics import mean_squared_error"
   ]
  },
  {
   "cell_type": "code",
   "execution_count": 2,
   "id": "81ae9342",
   "metadata": {},
   "outputs": [],
   "source": [
    "# Import data\n",
    "df = pd.read_csv('/Users/zachary/Desktop/WINTER22/Geog490/geospatial-data-science/labs/lab5/seattle_house_prices.csv')\n"
   ]
  },
  {
   "cell_type": "code",
   "execution_count": 3,
   "id": "6485d9d8",
   "metadata": {},
   "outputs": [],
   "source": [
    "# Convert DataFrame to GeoDataFrame\n",
    "gdf = gpd.GeoDataFrame(df, geometry=gpd.points_from_xy(df['long'], df['lat']))\n",
    "gdf = gdf.set_crs(4326, allow_override=True)\n",
    "\n",
    "# Reproject everything to UTM 10N (EPSG:32610)\n",
    "gdf_utm = gdf.to_crs('EPSG:32610')"
   ]
  },
  {
   "cell_type": "markdown",
   "id": "1316ce5a",
   "metadata": {},
   "source": [
    "# How many houses are in this dataset?"
   ]
  },
  {
   "cell_type": "code",
   "execution_count": 7,
   "id": "95f644d6",
   "metadata": {},
   "outputs": [
    {
     "data": {
      "text/plain": [
       "price          19451\n",
       "bedrooms       19451\n",
       "bathrooms      19451\n",
       "sqft_living    19451\n",
       "sqft_lot       19451\n",
       "yr_built       19451\n",
       "lat            19451\n",
       "long           19451\n",
       "geometry       19451\n",
       "dtype: int64"
      ]
     },
     "execution_count": 7,
     "metadata": {},
     "output_type": "execute_result"
    }
   ],
   "source": [
    "gdf.count()"
   ]
  },
  {
   "cell_type": "markdown",
   "id": "1a951b7c",
   "metadata": {},
   "source": [
    "### There are 19,451 houses in this data set"
   ]
  },
  {
   "cell_type": "markdown",
   "id": "df8e3d4b",
   "metadata": {},
   "source": [
    "# How many features are there for predicting house price?"
   ]
  },
  {
   "cell_type": "code",
   "execution_count": 8,
   "id": "30d7acdf",
   "metadata": {},
   "outputs": [
    {
     "data": {
      "text/html": [
       "<div>\n",
       "<style scoped>\n",
       "    .dataframe tbody tr th:only-of-type {\n",
       "        vertical-align: middle;\n",
       "    }\n",
       "\n",
       "    .dataframe tbody tr th {\n",
       "        vertical-align: top;\n",
       "    }\n",
       "\n",
       "    .dataframe thead th {\n",
       "        text-align: right;\n",
       "    }\n",
       "</style>\n",
       "<table border=\"1\" class=\"dataframe\">\n",
       "  <thead>\n",
       "    <tr style=\"text-align: right;\">\n",
       "      <th></th>\n",
       "      <th>price</th>\n",
       "      <th>bedrooms</th>\n",
       "      <th>bathrooms</th>\n",
       "      <th>sqft_living</th>\n",
       "      <th>sqft_lot</th>\n",
       "      <th>yr_built</th>\n",
       "      <th>lat</th>\n",
       "      <th>long</th>\n",
       "      <th>geometry</th>\n",
       "    </tr>\n",
       "  </thead>\n",
       "  <tbody>\n",
       "    <tr>\n",
       "      <th>0</th>\n",
       "      <td>538000</td>\n",
       "      <td>3</td>\n",
       "      <td>2.25</td>\n",
       "      <td>2570</td>\n",
       "      <td>7242</td>\n",
       "      <td>1951</td>\n",
       "      <td>47.7210</td>\n",
       "      <td>-122.319</td>\n",
       "      <td>POINT (-122.31900 47.72100)</td>\n",
       "    </tr>\n",
       "    <tr>\n",
       "      <th>1</th>\n",
       "      <td>180000</td>\n",
       "      <td>2</td>\n",
       "      <td>1.00</td>\n",
       "      <td>770</td>\n",
       "      <td>10000</td>\n",
       "      <td>1933</td>\n",
       "      <td>47.7379</td>\n",
       "      <td>-122.233</td>\n",
       "      <td>POINT (-122.23300 47.73790)</td>\n",
       "    </tr>\n",
       "    <tr>\n",
       "      <th>2</th>\n",
       "      <td>604000</td>\n",
       "      <td>4</td>\n",
       "      <td>3.00</td>\n",
       "      <td>1960</td>\n",
       "      <td>5000</td>\n",
       "      <td>1965</td>\n",
       "      <td>47.5208</td>\n",
       "      <td>-122.393</td>\n",
       "      <td>POINT (-122.39300 47.52080)</td>\n",
       "    </tr>\n",
       "    <tr>\n",
       "      <th>3</th>\n",
       "      <td>510000</td>\n",
       "      <td>3</td>\n",
       "      <td>2.00</td>\n",
       "      <td>1680</td>\n",
       "      <td>8080</td>\n",
       "      <td>1987</td>\n",
       "      <td>47.6168</td>\n",
       "      <td>-122.045</td>\n",
       "      <td>POINT (-122.04500 47.61680)</td>\n",
       "    </tr>\n",
       "    <tr>\n",
       "      <th>4</th>\n",
       "      <td>1230000</td>\n",
       "      <td>4</td>\n",
       "      <td>4.50</td>\n",
       "      <td>5420</td>\n",
       "      <td>101930</td>\n",
       "      <td>2001</td>\n",
       "      <td>47.6561</td>\n",
       "      <td>-122.005</td>\n",
       "      <td>POINT (-122.00500 47.65610)</td>\n",
       "    </tr>\n",
       "  </tbody>\n",
       "</table>\n",
       "</div>"
      ],
      "text/plain": [
       "     price  bedrooms  bathrooms  sqft_living  sqft_lot  yr_built      lat  \\\n",
       "0   538000         3       2.25         2570      7242      1951  47.7210   \n",
       "1   180000         2       1.00          770     10000      1933  47.7379   \n",
       "2   604000         4       3.00         1960      5000      1965  47.5208   \n",
       "3   510000         3       2.00         1680      8080      1987  47.6168   \n",
       "4  1230000         4       4.50         5420    101930      2001  47.6561   \n",
       "\n",
       "      long                     geometry  \n",
       "0 -122.319  POINT (-122.31900 47.72100)  \n",
       "1 -122.233  POINT (-122.23300 47.73790)  \n",
       "2 -122.393  POINT (-122.39300 47.52080)  \n",
       "3 -122.045  POINT (-122.04500 47.61680)  \n",
       "4 -122.005  POINT (-122.00500 47.65610)  "
      ]
     },
     "execution_count": 8,
     "metadata": {},
     "output_type": "execute_result"
    }
   ],
   "source": [
    "gdf.head()"
   ]
  },
  {
   "cell_type": "markdown",
   "id": "18ce568d",
   "metadata": {},
   "source": [
    "### As we can see, there are 5 features that could be used to predict housing prices. I guess lat and long could be considered 6 & 7 ( I think those are terrible variables), as the correlation question assumes those are included. My final answer is 7."
   ]
  },
  {
   "cell_type": "markdown",
   "id": "5ec578e2",
   "metadata": {},
   "source": [
    "# Are there any null values in this dataset?"
   ]
  },
  {
   "cell_type": "code",
   "execution_count": 9,
   "id": "6eea1dd0",
   "metadata": {},
   "outputs": [
    {
     "name": "stdout",
     "output_type": "stream",
     "text": [
      "<class 'geopandas.geodataframe.GeoDataFrame'>\n",
      "RangeIndex: 19451 entries, 0 to 19450\n",
      "Data columns (total 9 columns):\n",
      " #   Column       Non-Null Count  Dtype   \n",
      "---  ------       --------------  -----   \n",
      " 0   price        19451 non-null  int64   \n",
      " 1   bedrooms     19451 non-null  int64   \n",
      " 2   bathrooms    19451 non-null  float64 \n",
      " 3   sqft_living  19451 non-null  int64   \n",
      " 4   sqft_lot     19451 non-null  int64   \n",
      " 5   yr_built     19451 non-null  int64   \n",
      " 6   lat          19451 non-null  float64 \n",
      " 7   long         19451 non-null  float64 \n",
      " 8   geometry     19451 non-null  geometry\n",
      "dtypes: float64(3), geometry(1), int64(5)\n",
      "memory usage: 1.3 MB\n"
     ]
    }
   ],
   "source": [
    "gdf.info()"
   ]
  },
  {
   "cell_type": "markdown",
   "id": "523e4fd6",
   "metadata": {},
   "source": [
    "### There are no null values in the data set. We can tell this because the count of features is 19451, which matches the non_null count for each variable."
   ]
  },
  {
   "cell_type": "markdown",
   "id": "e36058ee",
   "metadata": {},
   "source": [
    "# Which three variables are best correlated with house price (include correlation coefficients)?\n",
    "# Which three variables are least correlated with house price (include correlation coefficients)?"
   ]
  },
  {
   "cell_type": "code",
   "execution_count": 10,
   "id": "c238a177",
   "metadata": {},
   "outputs": [
    {
     "data": {
      "text/plain": [
       "price          1.000000\n",
       "sqft_living    0.702296\n",
       "bathrooms      0.524395\n",
       "bedrooms       0.315804\n",
       "lat            0.308082\n",
       "sqft_lot       0.090125\n",
       "yr_built       0.052453\n",
       "long           0.020092\n",
       "Name: price, dtype: float64"
      ]
     },
     "execution_count": 10,
     "metadata": {},
     "output_type": "execute_result"
    }
   ],
   "source": [
    "# Compute correlation matrix\n",
    "corr_matrix = gdf_utm.corr()\n",
    "\n",
    "# Display just house value correlations\n",
    "corr_matrix[\"price\"].sort_values(ascending= False)"
   ]
  },
  {
   "cell_type": "markdown",
   "id": "74501950",
   "metadata": {},
   "source": [
    "### sqft_living is the most correlated (0.702296) followed by bathrooms (0.524395), and bedrooms (0.315804)"
   ]
  },
  {
   "cell_type": "markdown",
   "id": "89f72047",
   "metadata": {},
   "source": [
    "### long is the least correlated variable (0.020092) followed by yr_built (0.052453), and sqft_lot (0.090125)"
   ]
  },
  {
   "cell_type": "markdown",
   "id": "07788029",
   "metadata": {},
   "source": [
    "# Question 2"
   ]
  },
  {
   "cell_type": "code",
   "execution_count": 12,
   "id": "608dbaa4",
   "metadata": {},
   "outputs": [],
   "source": [
    "# I decided to try and add a park shapefile into the mix and treat it similarily to the california coast file. \n",
    "#I am not sure how well thought out it was. It ended up making my model worse either way!! This was a fun lab,\n",
    "# and a creative way to tackle the second half. I appreciated it very much albeit not being able to spend a whole lot\n",
    "# of time optimizing my model\n",
    "\n",
    "park = gpd.read_file('/Users/zachary/Desktop/WINTER22/Geog490/geospatial-data-science/labs/lab5/Seattle_parks.shp')\n",
    "park_utm = park.to_crs('EPSG:32610')\n",
    "\n",
    "# Compute distance to seattle parks\n",
    "distance_to_park = []\n",
    "for i in range(gdf_utm.shape[0]):\n",
    "    distance_to_park.append(park_utm.distance(gdf_utm['geometry'].iloc[i]).min())\n",
    "    \n",
    "# Add to DataFrame\n",
    "gdf_utm['distance_to_park'] = distance_to_park"
   ]
  },
  {
   "cell_type": "code",
   "execution_count": 13,
   "id": "aebb151c",
   "metadata": {},
   "outputs": [],
   "source": [
    "# Define feature list\n",
    "feature_list =  ['sqft_living', 'bathrooms', 'bedrooms', \n",
    "                 'lat', 'sqft_lot', 'yr_built', 'long', 'distance_to_park']\n",
    "\n",
    "# Define features and labels \n",
    "X = gdf_utm[feature_list]\n",
    "y = gdf_utm['price']\n",
    "\n",
    "# Standarize data\n",
    "scaler = StandardScaler()  \n",
    "X_scaled = scaler.fit_transform(X)"
   ]
  },
  {
   "cell_type": "code",
   "execution_count": 14,
   "id": "005e1ea7",
   "metadata": {},
   "outputs": [],
   "source": [
    "# Split data \n",
    "X_train, X_test, y_train, y_test = train_test_split(X_scaled, y, test_size=0.2, random_state=42)"
   ]
  },
  {
   "cell_type": "code",
   "execution_count": 15,
   "id": "b00bc77f",
   "metadata": {},
   "outputs": [
    {
     "data": {
      "text/plain": [
       "RandomForestRegressor(n_estimators=30)"
      ]
     },
     "execution_count": 15,
     "metadata": {},
     "output_type": "execute_result"
    }
   ],
   "source": [
    "forest_reg = RandomForestRegressor(n_estimators = 30)\n",
    "\n",
    "# Fit model\n",
    "forest_reg.fit(X_train, y_train)"
   ]
  },
  {
   "cell_type": "code",
   "execution_count": 16,
   "id": "701ca678",
   "metadata": {},
   "outputs": [
    {
     "data": {
      "text/plain": [
       "156876.3619223075"
      ]
     },
     "execution_count": 16,
     "metadata": {},
     "output_type": "execute_result"
    }
   ],
   "source": [
    "# Predict test labels predictions\n",
    "predictions = forest_reg.predict(X_test)\n",
    "\n",
    "# Compute mean-squared-error\n",
    "final_mse = mean_squared_error(y_test , predictions)\n",
    "final_rmse = np.sqrt(final_mse)\n",
    "final_rmse"
   ]
  },
  {
   "cell_type": "code",
   "execution_count": null,
   "id": "dd4b2ccb",
   "metadata": {},
   "outputs": [],
   "source": []
  }
 ],
 "metadata": {
  "kernelspec": {
   "display_name": "Python 3 (ipykernel)",
   "language": "python",
   "name": "python3"
  },
  "language_info": {
   "codemirror_mode": {
    "name": "ipython",
    "version": 3
   },
   "file_extension": ".py",
   "mimetype": "text/x-python",
   "name": "python",
   "nbconvert_exporter": "python",
   "pygments_lexer": "ipython3",
   "version": "3.8.12"
  }
 },
 "nbformat": 4,
 "nbformat_minor": 5
}
